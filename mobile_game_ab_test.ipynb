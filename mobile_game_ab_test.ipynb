{
 "cells": [
  {
   "cell_type": "markdown",
   "id": "86c68263",
   "metadata": {},
   "source": [
    "# Cookie Cats A/B-testing\n",
    "## 1. Gate at level 30 VS. Gate at level 40\n",
    "\n",
    "Cookie Cats</a> is a hugely popular mobile puzzle game developed by <a href=\"http://tactile.dk\">Tactile Entertainment</a>. It's a classic \"connect three\"-style puzzle game where the player must connect tiles of the same color to clear the board and win the level.\n",
    "\n",
    "Players progress through the levels of the game, they will occasionally encounter gates that force them to wait a non-trivial amount of time or make an in-app purchase to progress.\n",
    "\n",
    "But where should the gates be placed? Initially the first gate was placed at level 30, but in this notebook we're going to analyze an AB-test where we moved the first gate in Cookie Cats from level 30 to level 40. In particular, we will look at the impact on player retention.\n",
    "<p><img src=\"https://assets.datacamp.com/production/project_184/img/cc_gates.png\" alt></p>"
   ]
  },
  {
   "cell_type": "markdown",
   "id": "5c7aa119",
   "metadata": {},
   "source": [
    "## 2. The AB-test data\n",
    "<p>The data we have is from 90,189 players that installed the game while the AB-test was running. The variables are:</p>\n",
    "<ul>\n",
    "<li><code>userid</code> - a unique number that identifies each player.</li>\n",
    "<li><code>version</code> - whether the player was put in the control group (<code>gate_30</code> - a gate at level 30) or the group with the moved gate (<code>gate_40</code> - a gate at level 40).</li>\n",
    "<li><code>sum_gamerounds</code> - the number of game rounds played by the player during the first 14 days after install.</li>\n",
    "<li><code>retention_1</code> - did the player come back and play <strong>1 day</strong> after installing?</li>\n",
    "<li><code>retention_7</code> - did the player come back and play <strong>7 days</strong> after installing?</li>\n",
    "</ul>\n",
    "<p>When a player installed the game, he or she was randomly assigned to either <code>gate_30</code> or <code>gate_40</code>. As a sanity check, let's see if there are roughly the same number of players in each AB group. </p>"
   ]
  },
  {
   "cell_type": "code",
   "execution_count": 1,
   "id": "cd953afe",
   "metadata": {},
   "outputs": [],
   "source": [
    "import pandas as pd\n",
    "import numpy as np\n",
    "import seaborn as sns\n",
    "import matplotlib.pyplot as plt\n",
    "from scipy.stats import shapiro\n",
    "import scipy.stats as stats"
   ]
  },
  {
   "cell_type": "code",
   "execution_count": 2,
   "id": "a0619e82",
   "metadata": {},
   "outputs": [
    {
     "data": {
      "text/html": [
       "<div>\n",
       "<style scoped>\n",
       "    .dataframe tbody tr th:only-of-type {\n",
       "        vertical-align: middle;\n",
       "    }\n",
       "\n",
       "    .dataframe tbody tr th {\n",
       "        vertical-align: top;\n",
       "    }\n",
       "\n",
       "    .dataframe thead th {\n",
       "        text-align: right;\n",
       "    }\n",
       "</style>\n",
       "<table border=\"1\" class=\"dataframe\">\n",
       "  <thead>\n",
       "    <tr style=\"text-align: right;\">\n",
       "      <th></th>\n",
       "      <th>userid</th>\n",
       "      <th>version</th>\n",
       "      <th>sum_gamerounds</th>\n",
       "      <th>retention_1</th>\n",
       "      <th>retention_7</th>\n",
       "    </tr>\n",
       "  </thead>\n",
       "  <tbody>\n",
       "    <tr>\n",
       "      <th>0</th>\n",
       "      <td>116</td>\n",
       "      <td>gate_30</td>\n",
       "      <td>3</td>\n",
       "      <td>False</td>\n",
       "      <td>False</td>\n",
       "    </tr>\n",
       "    <tr>\n",
       "      <th>1</th>\n",
       "      <td>337</td>\n",
       "      <td>gate_30</td>\n",
       "      <td>38</td>\n",
       "      <td>True</td>\n",
       "      <td>False</td>\n",
       "    </tr>\n",
       "    <tr>\n",
       "      <th>2</th>\n",
       "      <td>377</td>\n",
       "      <td>gate_40</td>\n",
       "      <td>165</td>\n",
       "      <td>True</td>\n",
       "      <td>False</td>\n",
       "    </tr>\n",
       "    <tr>\n",
       "      <th>3</th>\n",
       "      <td>483</td>\n",
       "      <td>gate_40</td>\n",
       "      <td>1</td>\n",
       "      <td>False</td>\n",
       "      <td>False</td>\n",
       "    </tr>\n",
       "    <tr>\n",
       "      <th>4</th>\n",
       "      <td>488</td>\n",
       "      <td>gate_40</td>\n",
       "      <td>179</td>\n",
       "      <td>True</td>\n",
       "      <td>True</td>\n",
       "    </tr>\n",
       "  </tbody>\n",
       "</table>\n",
       "</div>"
      ],
      "text/plain": [
       "   userid  version  sum_gamerounds  retention_1  retention_7\n",
       "0     116  gate_30               3        False        False\n",
       "1     337  gate_30              38         True        False\n",
       "2     377  gate_40             165         True        False\n",
       "3     483  gate_40               1        False        False\n",
       "4     488  gate_40             179         True         True"
      ]
     },
     "execution_count": 2,
     "metadata": {},
     "output_type": "execute_result"
    }
   ],
   "source": [
    "df = pd.read_csv('cookie_cats.csv')\n",
    "df.head()"
   ]
  },
  {
   "cell_type": "code",
   "execution_count": 3,
   "id": "8496125b",
   "metadata": {},
   "outputs": [
    {
     "data": {
      "text/plain": [
       "version\n",
       "gate_30    44700\n",
       "gate_40    45489\n",
       "Name: userid, dtype: int64"
      ]
     },
     "execution_count": 3,
     "metadata": {},
     "output_type": "execute_result"
    }
   ],
   "source": [
    "df.groupby('version')['userid'].count()"
   ]
  },
  {
   "cell_type": "markdown",
   "id": "b64ffc01",
   "metadata": {},
   "source": [
    "## 3. Let's see distribution of game rounds played"
   ]
  },
  {
   "cell_type": "code",
   "execution_count": 4,
   "id": "9078a56b",
   "metadata": {},
   "outputs": [
    {
     "data": {
      "image/png": "[encoded data removed]",
      "text/plain": [
       "<Figure size 432x288 with 1 Axes>"
      ]
     },
     "metadata": {
      "needs_background": "light"
     },
     "output_type": "display_data"
    }
   ],
   "source": [
    "plot_df = df.groupby('sum_gamerounds')['userid'].count()\n",
    "\n",
    "# Plotting the distribution of players that played 0 to 100 game rounds\n",
    "ax = plot_df.head(100).plot(x='sum_gamerounds', y='userid', kind='hist')\n",
    "ax.set_xlabel(\"Game rounds\")\n",
    "ax.set_ylabel(\"Users\")\n",
    "plt.show()"
   ]
  },
  {
   "cell_type": "markdown",
   "id": "b4cfb4ec",
   "metadata": {},
   "source": [
    "#### Majority of players install the game, but do not play it (0 game rounds)"
   ]
  },
  {
   "cell_type": "markdown",
   "id": "f540bf11",
   "metadata": {},
   "source": [
    "## 4. Now let's see the difference in day-1 retention with both 40 and 30 level gates using bootstrapping."
   ]
  },
  {
   "cell_type": "code",
   "execution_count": 5,
   "id": "c2916c2f",
   "metadata": {},
   "outputs": [
    {
     "data": {
      "text/plain": [
       "version\n",
       "gate_30    44.818792\n",
       "gate_40    44.228275\n",
       "Name: retention_1, dtype: float64"
      ]
     },
     "execution_count": 5,
     "metadata": {},
     "output_type": "execute_result"
    }
   ],
   "source": [
    "df.groupby('version')['retention_1'].mean() * 100\n"
   ]
  },
  {
   "cell_type": "code",
   "execution_count": 6,
   "id": "d398ba37",
   "metadata": {},
   "outputs": [],
   "source": [
    "boot_1d = []\n",
    "for i in range(500):\n",
    "    boot_mean = df.sample(frac=1, replace=True).groupby('version')['retention_1'].mean()\n",
    "    boot_1d.append(boot_mean)"
   ]
  },
  {
   "cell_type": "code",
   "execution_count": 7,
   "id": "6f011981",
   "metadata": {},
   "outputs": [
    {
     "name": "stdout",
     "output_type": "stream",
     "text": [
      "version\n",
      "gate_30    0.448265\n",
      "gate_40    0.442222\n",
      "dtype: float64\n"
     ]
    },
    {
     "data": {
      "image/png": "[encoded data removed]",
      "text/plain": [
       "<Figure size 432x288 with 1 Axes>"
      ]
     },
     "metadata": {
      "needs_background": "light"
     },
     "output_type": "display_data"
    }
   ],
   "source": [
    "boot_1d = pd.DataFrame(boot_1d)\n",
    "print(boot_1d.mean())\n",
    "boot_1d.plot(kind='kde')\n",
    "plt.show()"
   ]
  },
  {
   "cell_type": "markdown",
   "id": "1cfc1efb",
   "metadata": {},
   "source": []
  },
  {
   "cell_type": "markdown",
   "id": "9ba318da",
   "metadata": {},
   "source": [
    "#### Day 1 retention is not really interesting for us, since users usually require around 7 days to reach the gate."
   ]
  },
  {
   "cell_type": "markdown",
   "id": "92dbbfbd",
   "metadata": {},
   "source": [
    "## 5. It seems that there was a decrease in 1-day retention when the gate was moved to level 40 (44.2%) compared to the control when it was at level 30 (44.8%).  Now let's find the 7-day retention using bootstrapping."
   ]
  },
  {
   "cell_type": "code",
   "execution_count": 8,
   "id": "a9e8dca9",
   "metadata": {},
   "outputs": [],
   "source": [
    "boot_7d = []\n",
    "for i in range(500):\n",
    "    boot_mean = df.sample(frac=1, replace=True).groupby('version')['retention_7'].mean()\n",
    "    boot_7d.append(boot_mean)"
   ]
  },
  {
   "cell_type": "code",
   "execution_count": 9,
   "id": "7674bc94",
   "metadata": {},
   "outputs": [
    {
     "name": "stdout",
     "output_type": "stream",
     "text": [
      "version\n",
      "gate_30    0.190130\n",
      "gate_40    0.181983\n",
      "dtype: float64\n"
     ]
    },
    {
     "data": {
      "image/png": "[encoded data removed]",
      "text/plain": [
       "<Figure size 432x288 with 1 Axes>"
      ]
     },
     "metadata": {
      "needs_background": "light"
     },
     "output_type": "display_data"
    }
   ],
   "source": [
    "boot_7d = pd.DataFrame(boot_7d)\n",
    "print(boot_7d.mean())\n",
    "boot_7d.plot(kind='kde')\n",
    "plt.show()"
   ]
  },
  {
   "cell_type": "code",
   "execution_count": 10,
   "id": "a2b9ac86",
   "metadata": {},
   "outputs": [],
   "source": [
    "gate30_7d = boot_7d['gate_30'] # Group A\n",
    "gate40_7d = boot_7d['gate_40'] # Group B"
   ]
  },
  {
   "cell_type": "markdown",
   "id": "b4cd6607",
   "metadata": {},
   "source": [
    "## 6. Reviewing the results. Testing hypothesies "
   ]
  },
  {
   "cell_type": "markdown",
   "id": "d614983a",
   "metadata": {},
   "source": [
    "### Testing normality of distribution using Shaphiro Wilks test"
   ]
  },
  {
   "cell_type": "code",
   "execution_count": 11,
   "id": "cc2f237c",
   "metadata": {},
   "outputs": [
    {
     "name": "stdout",
     "output_type": "stream",
     "text": [
      "Normal distribution for group A\n",
      "Normal distribution for group B\n"
     ]
    }
   ],
   "source": [
    "if shapiro(gate30_7d)[1] > 0.05: \n",
    "    print('Normal distribution for group A')\n",
    "else:\n",
    "    print('Not normal distribution for group A')\n",
    "if shapiro(gate40_7d)[1] > 0.05:\n",
    "    print('Normal distribution for group B')\n",
    "else:\n",
    "    print('Not normal distribution for group B')\n",
    "# H0: Distribution is Normal! - True\n",
    "# H1: Distribution is not Normal! - False"
   ]
  },
  {
   "cell_type": "markdown",
   "id": "357cc240",
   "metadata": {},
   "source": [
    "### Testing the Homogeneity Assumption"
   ]
  },
  {
   "cell_type": "code",
   "execution_count": 12,
   "id": "1784f79c",
   "metadata": {},
   "outputs": [
    {
     "name": "stdout",
     "output_type": "stream",
     "text": [
      "Heterogeneity\n"
     ]
    }
   ],
   "source": [
    "if stats.levene(gate30_7d, gate40_7d)[1] > 0.05:\n",
    "    print('Homogenity')\n",
    "else:\n",
    "    print('Heterogeneity')\n",
    "# H0: Homogenity - True\n",
    "# H1: Heterogeneity - False"
   ]
  },
  {
   "cell_type": "markdown",
   "id": "bab23456",
   "metadata": {},
   "source": [
    "Distributions are normal and heterogenetic => Performing t-test with 'equal_var' as False"
   ]
  },
  {
   "cell_type": "markdown",
   "id": "eab13ee0",
   "metadata": {},
   "source": [
    "### Performing t-test\n"
   ]
  },
  {
   "cell_type": "markdown",
   "id": "62a576b3",
   "metadata": {},
   "source": [
    "H0: There is no statistically significant difference between group A and group B  \n",
    "H1: There is statistically significant difference between group A and group B"
   ]
  },
  {
   "cell_type": "code",
   "execution_count": 15,
   "id": "ed3effe0",
   "metadata": {},
   "outputs": [],
   "source": [
    "t_test = stats.ttest_ind(gate30_7d, gate40_7d, equal_var=False)"
   ]
  },
  {
   "cell_type": "code",
   "execution_count": 16,
   "id": "a6bb8874",
   "metadata": {},
   "outputs": [
    {
     "name": "stdout",
     "output_type": "stream",
     "text": [
      "P-value is 0.0 which is less than 0.05, so H0 rejected\n"
     ]
    }
   ],
   "source": [
    "if t_test[1] < 0.05:\n",
    "    print(f'P-value is {t_test[1]} which is less than 0.05, so H0 rejected')\n",
    "else:\n",
    "    print(f'P-value is {t_test[1]} which is more than 0.05, so H1 rejected')"
   ]
  },
  {
   "cell_type": "markdown",
   "id": "09c28c31",
   "metadata": {},
   "source": [
    "## Conclusion:  \n",
    "Placing the gate at level 30 makes 7 day retention higher than placing the gate at level 40"
   ]
  }
 ],
 "metadata": {
  "kernelspec": {
   "display_name": "Python 3 (ipykernel)",
   "language": "python",
   "name": "python3"
  },
  "language_info": {
   "codemirror_mode": {
    "name": "ipython",
    "version": 3
   },
   "file_extension": ".py",
   "mimetype": "text/x-python",
   "name": "python",
   "nbconvert_exporter": "python",
   "pygments_lexer": "ipython3",
   "version": "3.10.6"
  }
 },
 "nbformat": 4,
 "nbformat_minor": 5
}
